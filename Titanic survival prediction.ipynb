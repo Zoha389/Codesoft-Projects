{
 "cells": [
  {
   "cell_type": "code",
   "execution_count": null,
   "id": "eb3cc199-f765-4d5d-8361-dacc9eb97813",
   "metadata": {},
   "outputs": [],
   "source": []
  }
 ],
 "metadata": {
  "kernelspec": {
   "display_name": "",
   "name": ""
  },
  "language_info": {
   "name": ""
  }
 },
 "nbformat": 4,
 "nbformat_minor": 5
}
